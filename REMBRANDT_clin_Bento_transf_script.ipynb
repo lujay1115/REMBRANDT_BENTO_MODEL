{
 "cells": [
  {
   "cell_type": "code",
   "execution_count": 1,
   "id": "bce100e3",
   "metadata": {},
   "outputs": [],
   "source": [
    "import ruamel.yaml as yl\n",
    "import pandas as pd\n",
    "import numpy as np"
   ]
  },
  {
   "cell_type": "code",
   "execution_count": 2,
   "id": "b1ae3d49",
   "metadata": {},
   "outputs": [],
   "source": [
    "#in_file is the address for data model\n",
    "in_file = \"...\"\n",
    "yaml = yl.YAML(typ='safe')\n",
    "with open(in_file, encoding='utf-8-sig') as file:\n",
    "    data_model = yaml.load(file)"
   ]
  },
  {
   "cell_type": "code",
   "execution_count": 3,
   "id": "2262ed8d",
   "metadata": {},
   "outputs": [
    {
     "data": {
      "text/plain": [
       "{'Nodes': {'institution': {'Props': ['INSTITUTION_NAME']},\n",
       "  'study_subject': {'Props': ['SUBJECT_ID',\n",
       "    'KARNOFSKY',\n",
       "    'NEURO_EXAM_SCORE',\n",
       "    'DISEASE_EVAL_MRI',\n",
       "    'STEROID_DOSE_STATUS',\n",
       "    'ANTI_CONVULSANT_STATUS']},\n",
       "  'demographic_data': {'Props': ['RACE', 'AGE_RANGE', 'GENDER']},\n",
       "  'prior_therapeutic_procedure': {'Props': ['PRIOR_THERAPY_RADIATION_TYPE',\n",
       "    'PRIOR_THERAPY_CHEMO_AGENT_NAME',\n",
       "    'PRIOR_THERAPY_PROCEDURE',\n",
       "    'PRIOR_THERAPY_SURGERY_TUMOR_HISTOLOGY',\n",
       "    'PRIOR_THERAPY_SURGERY_OUTCOME',\n",
       "    'PRIOR_THERAPY_SURGERY_OUTCOME_2',\n",
       "    'PT_NAME2',\n",
       "    'PRIOR_THERAPY_SURGERY_OUTCOME_1',\n",
       "    'PT_NAME1']},\n",
       "  'on_therapeutic_procedure': {'Props': ['ON_THERAPY_RADIATION_SITE',\n",
       "    'ON_THERAPY_RADIATION_TYPE',\n",
       "    'ON_THERAPY_CHEMO_AGENT_NAME',\n",
       "    'ON_THERAPY_SURGERY_TITLE',\n",
       "    'ON_THERAPY_SURGERY_HIST_DIAG',\n",
       "    'ON_THERAPY_SURGERY_OUTCOME']},\n",
       "  'diagnosis': {'Props': ['DISEASE_TYPE', 'WHO_GRADE']},\n",
       "  'outcome': {'Props': ['EVENT_OS', 'OVERALL_SURVIVAL_MONTHS']}},\n",
       " 'Relationships': {'of_study_subject': {'Mul': 'many_to_one',\n",
       "   'Ends': [{'Src': 'demographic_data', 'Dst': 'study_subject'},\n",
       "    {'Src': 'outcome', 'Dst': 'study_subject'},\n",
       "    {'Src': 'diagnosis', 'Dst': 'study_subject'},\n",
       "    {'Src': 'institution', 'Dst': 'study_subject'},\n",
       "    {'Src': 'on_therapeutic_procedure', 'Dst': 'study_subject'},\n",
       "    {'Src': 'prior_therapeutic_procedure', 'Dst': 'study_subject'}],\n",
       "   'Props': None}}}"
      ]
     },
     "execution_count": 3,
     "metadata": {},
     "output_type": "execute_result"
    }
   ],
   "source": [
    "data_model"
   ]
  },
  {
   "cell_type": "code",
   "execution_count": 4,
   "id": "7e0d64d8",
   "metadata": {},
   "outputs": [
    {
     "data": {
      "text/plain": [
       "dict_keys(['institution', 'study_subject', 'demographic_data', 'prior_therapeutic_procedure', 'on_therapeutic_procedure', 'diagnosis', 'outcome'])"
      ]
     },
     "execution_count": 4,
     "metadata": {},
     "output_type": "execute_result"
    }
   ],
   "source": [
    "data_model[\"Nodes\"].keys()"
   ]
  },
  {
   "cell_type": "code",
   "execution_count": 5,
   "id": "854ace9e",
   "metadata": {},
   "outputs": [
    {
     "data": {
      "text/plain": [
       "['SUBJECT_ID',\n",
       " 'KARNOFSKY',\n",
       " 'NEURO_EXAM_SCORE',\n",
       " 'DISEASE_EVAL_MRI',\n",
       " 'STEROID_DOSE_STATUS',\n",
       " 'ANTI_CONVULSANT_STATUS']"
      ]
     },
     "execution_count": 5,
     "metadata": {},
     "output_type": "execute_result"
    }
   ],
   "source": [
    "data_model[\"Nodes\"][\"study_subject\"]['Props']"
   ]
  },
  {
   "cell_type": "code",
   "execution_count": 6,
   "id": "f5f3f7d4",
   "metadata": {},
   "outputs": [],
   "source": [
    "#read in the data(tsv)\n",
    "data = pd.read_csv('...', sep='\\t')"
   ]
  },
  {
   "cell_type": "code",
   "execution_count": 7,
   "id": "9f5bed1f",
   "metadata": {},
   "outputs": [
    {
     "data": {
      "text/plain": [
       "Index(['SUBJECT_ID', 'PARENT_ID', 'TYPE', 'TIMEPOINT', 'AGE_RANGE', 'GENDER',\n",
       "       'EVENT_OS', 'OVERALL_SURVIVAL_MONTHS', 'DISEASE_TYPE', 'WHO_GRADE',\n",
       "       'RACE', 'INSTITUTION_NAME', 'KARNOFSKY', 'NEURO_EXAM_SCORE',\n",
       "       'DISEASE_EVAL_MRI', 'STEROID_DOSE_STATUS', 'ANTI_CONVULSANT_STATUS',\n",
       "       'PRIOR_THERAPY_RADIATION_TYPE', 'PRIOR_THERAPY_CHEMO_AGENT_NAME',\n",
       "       'PRIOR_THERAPY_SURGERY_TUMOR_HISTOLOGY', 'PRIOR_THERAPY_PROCEDURE',\n",
       "       'PRIOR_THERAPY_SURGERY_OUTCOME', 'ON_THERAPY_RADIATION_SITE',\n",
       "       'ON_THERAPY_RADIATION_TYPE', 'ON_THERAPY_CHEMO_AGENT_NAME',\n",
       "       'ON_THERAPY_SURGERY_HIST_DIAG', 'ON_THERAPY_SURGERY_TITLE',\n",
       "       'ON_THERAPY_SURGERY_OUTCOME', 'PRIOR_THERAPY_SURGERY_OUTCOME_2',\n",
       "       'PT_NAME2', 'PRIOR_THERAPY_SURGERY_OUTCOME_1', 'PT_NAME1', 'GENE_EXP',\n",
       "       'COPY_NUMBER'],\n",
       "      dtype='object')"
      ]
     },
     "execution_count": 7,
     "metadata": {},
     "output_type": "execute_result"
    }
   ],
   "source": [
    "data.columns"
   ]
  },
  {
   "cell_type": "code",
   "execution_count": 8,
   "id": "d0ff16d8",
   "metadata": {},
   "outputs": [],
   "source": [
    "study_subject = data_model[\"Nodes\"][\"study_subject\"]['Props']"
   ]
  },
  {
   "cell_type": "code",
   "execution_count": 9,
   "id": "59907c69",
   "metadata": {},
   "outputs": [],
   "source": [
    "A = data.loc[:, study_subject]"
   ]
  },
  {
   "cell_type": "code",
   "execution_count": 10,
   "id": "154c8950",
   "metadata": {},
   "outputs": [],
   "source": [
    "colname = 'study_subject' + '_id'\n",
    "A.insert(0, colname, A.index + 1)"
   ]
  },
  {
   "cell_type": "code",
   "execution_count": 11,
   "id": "91e31a2d",
   "metadata": {},
   "outputs": [],
   "source": [
    "A[colname] =  colname + '_' + A[colname].astype(str)"
   ]
  },
  {
   "cell_type": "code",
   "execution_count": 12,
   "id": "43aaf07a",
   "metadata": {},
   "outputs": [],
   "source": [
    "A.insert(0, 'type', 'study_subject')"
   ]
  },
  {
   "cell_type": "code",
   "execution_count": 13,
   "id": "6bd1f010",
   "metadata": {},
   "outputs": [
    {
     "data": {
      "text/html": [
       "<div>\n",
       "<style scoped>\n",
       "    .dataframe tbody tr th:only-of-type {\n",
       "        vertical-align: middle;\n",
       "    }\n",
       "\n",
       "    .dataframe tbody tr th {\n",
       "        vertical-align: top;\n",
       "    }\n",
       "\n",
       "    .dataframe thead th {\n",
       "        text-align: right;\n",
       "    }\n",
       "</style>\n",
       "<table border=\"1\" class=\"dataframe\">\n",
       "  <thead>\n",
       "    <tr style=\"text-align: right;\">\n",
       "      <th></th>\n",
       "      <th>type</th>\n",
       "      <th>study_subject_id</th>\n",
       "      <th>SUBJECT_ID</th>\n",
       "      <th>KARNOFSKY</th>\n",
       "      <th>NEURO_EXAM_SCORE</th>\n",
       "      <th>DISEASE_EVAL_MRI</th>\n",
       "      <th>STEROID_DOSE_STATUS</th>\n",
       "      <th>ANTI_CONVULSANT_STATUS</th>\n",
       "    </tr>\n",
       "  </thead>\n",
       "  <tbody>\n",
       "    <tr>\n",
       "      <th>0</th>\n",
       "      <td>study_subject</td>\n",
       "      <td>study_subject_id_1</td>\n",
       "      <td>860772</td>\n",
       "      <td>NaN</td>\n",
       "      <td>NaN</td>\n",
       "      <td>NaN</td>\n",
       "      <td>NaN</td>\n",
       "      <td>NaN</td>\n",
       "    </tr>\n",
       "    <tr>\n",
       "      <th>1</th>\n",
       "      <td>study_subject</td>\n",
       "      <td>study_subject_id_2</td>\n",
       "      <td>3089254</td>\n",
       "      <td>NaN</td>\n",
       "      <td>NaN</td>\n",
       "      <td>NaN</td>\n",
       "      <td>NaN</td>\n",
       "      <td>NaN</td>\n",
       "    </tr>\n",
       "    <tr>\n",
       "      <th>2</th>\n",
       "      <td>study_subject</td>\n",
       "      <td>study_subject_id_3</td>\n",
       "      <td>3495697</td>\n",
       "      <td>NaN</td>\n",
       "      <td>NaN</td>\n",
       "      <td>NaN</td>\n",
       "      <td>NaN</td>\n",
       "      <td>NaN</td>\n",
       "    </tr>\n",
       "    <tr>\n",
       "      <th>3</th>\n",
       "      <td>study_subject</td>\n",
       "      <td>study_subject_id_4</td>\n",
       "      <td>3497265</td>\n",
       "      <td>NaN</td>\n",
       "      <td>NaN</td>\n",
       "      <td>NaN</td>\n",
       "      <td>NaN</td>\n",
       "      <td>NaN</td>\n",
       "    </tr>\n",
       "    <tr>\n",
       "      <th>4</th>\n",
       "      <td>study_subject</td>\n",
       "      <td>study_subject_id_5</td>\n",
       "      <td>3504050</td>\n",
       "      <td>NaN</td>\n",
       "      <td>NaN</td>\n",
       "      <td>NaN</td>\n",
       "      <td>NaN</td>\n",
       "      <td>NaN</td>\n",
       "    </tr>\n",
       "  </tbody>\n",
       "</table>\n",
       "</div>"
      ],
      "text/plain": [
       "            type    study_subject_id SUBJECT_ID KARNOFSKY NEURO_EXAM_SCORE  \\\n",
       "0  study_subject  study_subject_id_1     860772       NaN              NaN   \n",
       "1  study_subject  study_subject_id_2    3089254       NaN              NaN   \n",
       "2  study_subject  study_subject_id_3    3495697       NaN              NaN   \n",
       "3  study_subject  study_subject_id_4    3497265       NaN              NaN   \n",
       "4  study_subject  study_subject_id_5    3504050       NaN              NaN   \n",
       "\n",
       "  DISEASE_EVAL_MRI STEROID_DOSE_STATUS ANTI_CONVULSANT_STATUS  \n",
       "0              NaN                 NaN                    NaN  \n",
       "1              NaN                 NaN                    NaN  \n",
       "2              NaN                 NaN                    NaN  \n",
       "3              NaN                 NaN                    NaN  \n",
       "4              NaN                 NaN                    NaN  "
      ]
     },
     "execution_count": 13,
     "metadata": {},
     "output_type": "execute_result"
    }
   ],
   "source": [
    "A.head()"
   ]
  },
  {
   "cell_type": "code",
   "execution_count": 14,
   "id": "6b1ae7fd",
   "metadata": {},
   "outputs": [],
   "source": [
    "# use if else to search Src and Dst to determine if a parent ID column need to be add  "
   ]
  },
  {
   "cell_type": "code",
   "execution_count": 15,
   "id": "36c2c891",
   "metadata": {},
   "outputs": [
    {
     "name": "stdout",
     "output_type": "stream",
     "text": [
      "demographic_data\n",
      "outcome\n",
      "diagnosis\n",
      "institution\n",
      "on_therapeutic_procedure\n",
      "prior_therapeutic_procedure\n"
     ]
    }
   ],
   "source": [
    "for x in data_model[\"Relationships\"].keys():\n",
    "    for a in data_model[\"Relationships\"][x]['Ends']:\n",
    "        b = a.get('Src')\n",
    "        print(b)"
   ]
  },
  {
   "cell_type": "code",
   "execution_count": 16,
   "id": "84e01341",
   "metadata": {},
   "outputs": [],
   "source": [
    "#table = data.copy()\n",
    "for i in data_model[\"Nodes\"].keys():\n",
    "\n",
    "    colnames = data_model[\"Nodes\"][i]['Props']\n",
    "    table = data.loc[:, colnames]\n",
    "    IDcol = i + '_id'\n",
    "    table.insert(0, IDcol, table.index + 1)\n",
    "    table[IDcol] =  IDcol + '_' + table[IDcol].astype(str)\n",
    "    for x in data_model[\"Relationships\"].keys():\n",
    "        for a in data_model[\"Relationships\"][x]['Ends']:\n",
    "            b = a.get('Src')\n",
    "            if b == i:\n",
    "                parentname = a.get('Dst')\n",
    "                Parcol = parentname + '.' + parentname + '_id'\n",
    "                table.insert(0, Parcol, table.index + 1)\n",
    "                table[Parcol] =  parentname + '_id_' + table[Parcol].astype(str)\n",
    "    table.insert(0, 'type', i)\n",
    "    filename = i + '_file.txt'\n",
    "    table.to_csv('./output/' + filename, sep = '\\t', index = False)\n",
    "#    print(table.head())"
   ]
  },
  {
   "cell_type": "code",
   "execution_count": 17,
   "id": "232e41c0",
   "metadata": {},
   "outputs": [
    {
     "data": {
      "text/html": [
       "<div>\n",
       "<style scoped>\n",
       "    .dataframe tbody tr th:only-of-type {\n",
       "        vertical-align: middle;\n",
       "    }\n",
       "\n",
       "    .dataframe tbody tr th {\n",
       "        vertical-align: top;\n",
       "    }\n",
       "\n",
       "    .dataframe thead th {\n",
       "        text-align: right;\n",
       "    }\n",
       "</style>\n",
       "<table border=\"1\" class=\"dataframe\">\n",
       "  <thead>\n",
       "    <tr style=\"text-align: right;\">\n",
       "      <th></th>\n",
       "      <th>type</th>\n",
       "      <th>study_subject.study_subject_id</th>\n",
       "      <th>outcome_id</th>\n",
       "      <th>EVENT_OS</th>\n",
       "      <th>OVERALL_SURVIVAL_MONTHS</th>\n",
       "    </tr>\n",
       "  </thead>\n",
       "  <tbody>\n",
       "    <tr>\n",
       "      <th>0</th>\n",
       "      <td>outcome</td>\n",
       "      <td>study_subject_id_1</td>\n",
       "      <td>outcome_id_1</td>\n",
       "      <td>NaN</td>\n",
       "      <td>NaN</td>\n",
       "    </tr>\n",
       "    <tr>\n",
       "      <th>1</th>\n",
       "      <td>outcome</td>\n",
       "      <td>study_subject_id_2</td>\n",
       "      <td>outcome_id_2</td>\n",
       "      <td>NaN</td>\n",
       "      <td>NaN</td>\n",
       "    </tr>\n",
       "    <tr>\n",
       "      <th>2</th>\n",
       "      <td>outcome</td>\n",
       "      <td>study_subject_id_3</td>\n",
       "      <td>outcome_id_3</td>\n",
       "      <td>NaN</td>\n",
       "      <td>NaN</td>\n",
       "    </tr>\n",
       "    <tr>\n",
       "      <th>3</th>\n",
       "      <td>outcome</td>\n",
       "      <td>study_subject_id_4</td>\n",
       "      <td>outcome_id_4</td>\n",
       "      <td>NaN</td>\n",
       "      <td>NaN</td>\n",
       "    </tr>\n",
       "    <tr>\n",
       "      <th>4</th>\n",
       "      <td>outcome</td>\n",
       "      <td>study_subject_id_5</td>\n",
       "      <td>outcome_id_5</td>\n",
       "      <td>NaN</td>\n",
       "      <td>NaN</td>\n",
       "    </tr>\n",
       "  </tbody>\n",
       "</table>\n",
       "</div>"
      ],
      "text/plain": [
       "      type study_subject.study_subject_id    outcome_id  EVENT_OS  \\\n",
       "0  outcome             study_subject_id_1  outcome_id_1       NaN   \n",
       "1  outcome             study_subject_id_2  outcome_id_2       NaN   \n",
       "2  outcome             study_subject_id_3  outcome_id_3       NaN   \n",
       "3  outcome             study_subject_id_4  outcome_id_4       NaN   \n",
       "4  outcome             study_subject_id_5  outcome_id_5       NaN   \n",
       "\n",
       "   OVERALL_SURVIVAL_MONTHS  \n",
       "0                      NaN  \n",
       "1                      NaN  \n",
       "2                      NaN  \n",
       "3                      NaN  \n",
       "4                      NaN  "
      ]
     },
     "execution_count": 17,
     "metadata": {},
     "output_type": "execute_result"
    }
   ],
   "source": [
    "table.head()"
   ]
  },
  {
   "cell_type": "code",
   "execution_count": null,
   "id": "d5a48fc0",
   "metadata": {},
   "outputs": [],
   "source": []
  }
 ],
 "metadata": {
  "kernelspec": {
   "display_name": "Python 3",
   "language": "python",
   "name": "python3"
  },
  "language_info": {
   "codemirror_mode": {
    "name": "ipython",
    "version": 3
   },
   "file_extension": ".py",
   "mimetype": "text/x-python",
   "name": "python",
   "nbconvert_exporter": "python",
   "pygments_lexer": "ipython3",
   "version": "3.8.8"
  }
 },
 "nbformat": 4,
 "nbformat_minor": 5
}
